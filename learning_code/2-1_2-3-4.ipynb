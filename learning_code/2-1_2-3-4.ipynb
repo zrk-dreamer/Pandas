{
 "cells": [
  {
   "cell_type": "code",
   "execution_count": 1,
   "id": "64e98261",
   "metadata": {},
   "outputs": [],
   "source": [
    "import numpy as np\n",
    "import pandas as pd"
   ]
  },
  {
   "cell_type": "code",
   "execution_count": 2,
   "id": "9da30899",
   "metadata": {},
   "outputs": [],
   "source": [
    "import datetime\n",
    "from datetime import datetime, date"
   ]
  },
  {
   "cell_type": "code",
   "execution_count": 6,
   "id": "a04c9a87",
   "metadata": {},
   "outputs": [],
   "source": [
    "pd.set_option(\"display.notebook_repr_html\", False)\n",
    "pd.set_option(\"display.max_columns\", 7)\n",
    "pd.set_option(\"display.max_rows\", 10)\n",
    "pd.set_option(\"display.width\", 60)"
   ]
  },
  {
   "cell_type": "code",
   "execution_count": 7,
   "id": "5f516723",
   "metadata": {},
   "outputs": [],
   "source": [
    "import matplotlib.pyplot as plt\n",
    "%matplotlib inline"
   ]
  },
  {
   "cell_type": "code",
   "execution_count": 10,
   "id": "3c1ad44c",
   "metadata": {},
   "outputs": [
    {
     "data": {
      "text/plain": [
       "0    1\n",
       "1    2\n",
       "2    3\n",
       "3    4\n",
       "dtype: int64"
      ]
     },
     "execution_count": 10,
     "metadata": {},
     "output_type": "execute_result"
    }
   ],
   "source": [
    "s = pd.Series([1, 2, 3, 4])\n",
    "s"
   ]
  },
  {
   "cell_type": "code",
   "execution_count": 11,
   "id": "619905da",
   "metadata": {},
   "outputs": [
    {
     "data": {
      "text/plain": [
       "2"
      ]
     },
     "execution_count": 11,
     "metadata": {},
     "output_type": "execute_result"
    }
   ],
   "source": [
    "s[1]"
   ]
  },
  {
   "cell_type": "code",
   "execution_count": 12,
   "id": "6bee90e5",
   "metadata": {},
   "outputs": [
    {
     "data": {
      "text/plain": [
       "1    2\n",
       "3    4\n",
       "dtype: int64"
      ]
     },
     "execution_count": 12,
     "metadata": {},
     "output_type": "execute_result"
    }
   ],
   "source": [
    "s[[1, 3]]"
   ]
  },
  {
   "cell_type": "code",
   "execution_count": 15,
   "id": "73f24e34",
   "metadata": {},
   "outputs": [
    {
     "data": {
      "text/plain": [
       "a    1\n",
       "b    2\n",
       "c    3\n",
       "d    4\n",
       "dtype: int64"
      ]
     },
     "execution_count": 15,
     "metadata": {},
     "output_type": "execute_result"
    }
   ],
   "source": [
    "s = pd.Series([1, 2, 3, 4], index = [\"a\", \"b\", \"c\", \"d\"])\n",
    "s"
   ]
  },
  {
   "cell_type": "code",
   "execution_count": 16,
   "id": "1857f18d",
   "metadata": {},
   "outputs": [
    {
     "data": {
      "text/plain": [
       "a    1\n",
       "b    2\n",
       "dtype: int64"
      ]
     },
     "execution_count": 16,
     "metadata": {},
     "output_type": "execute_result"
    }
   ],
   "source": [
    "s[[\"a\", \"b\"]]"
   ]
  },
  {
   "cell_type": "code",
   "execution_count": 17,
   "id": "8f118d61",
   "metadata": {},
   "outputs": [
    {
     "data": {
      "text/plain": [
       "b    2\n",
       "c    3\n",
       "dtype: int64"
      ]
     },
     "execution_count": 17,
     "metadata": {},
     "output_type": "execute_result"
    }
   ],
   "source": [
    "s[[1, 2]]"
   ]
  },
  {
   "cell_type": "code",
   "execution_count": 18,
   "id": "6e415e69",
   "metadata": {},
   "outputs": [
    {
     "data": {
      "text/plain": [
       "Index(['a', 'b', 'c', 'd'], dtype='object')"
      ]
     },
     "execution_count": 18,
     "metadata": {},
     "output_type": "execute_result"
    }
   ],
   "source": [
    "s.index"
   ]
  },
  {
   "cell_type": "code",
   "execution_count": 20,
   "id": "359b7d2a",
   "metadata": {},
   "outputs": [
    {
     "data": {
      "text/plain": [
       "DatetimeIndex(['2023-03-01', '2023-03-02', '2023-03-03',\n",
       "               '2023-03-04', '2023-03-05', '2023-03-06'],\n",
       "              dtype='datetime64[ns]', freq='D')"
      ]
     },
     "execution_count": 20,
     "metadata": {},
     "output_type": "execute_result"
    }
   ],
   "source": [
    "dates = pd.date_range(\"2023-03-01\", \"2023-03-06\")\n",
    "dates"
   ]
  },
  {
   "cell_type": "code",
   "execution_count": 30,
   "id": "2167266c",
   "metadata": {},
   "outputs": [
    {
     "data": {
      "text/plain": [
       "2023-03-01    80\n",
       "2023-03-02    82\n",
       "2023-03-03    85\n",
       "2023-03-04    90\n",
       "2023-03-05    83\n",
       "2023-03-06    87\n",
       "Freq: D, dtype: int64"
      ]
     },
     "execution_count": 30,
     "metadata": {},
     "output_type": "execute_result"
    }
   ],
   "source": [
    "temps1 = pd.Series([80, 82, 85, 90, 83, 87], index = dates)\n",
    "temps1"
   ]
  },
  {
   "cell_type": "code",
   "execution_count": 31,
   "id": "e520c404",
   "metadata": {},
   "outputs": [
    {
     "data": {
      "text/plain": [
       "90"
      ]
     },
     "execution_count": 31,
     "metadata": {},
     "output_type": "execute_result"
    }
   ],
   "source": [
    "temps1[\"2023-03-04\"]"
   ]
  },
  {
   "cell_type": "code",
   "execution_count": 34,
   "id": "0524e738",
   "metadata": {},
   "outputs": [
    {
     "data": {
      "text/plain": [
       "2023-03-01    70\n",
       "2023-03-02    75\n",
       "2023-03-03    69\n",
       "2023-03-04    83\n",
       "2023-03-05    79\n",
       "2023-03-06    77\n",
       "Freq: D, dtype: int64"
      ]
     },
     "execution_count": 34,
     "metadata": {},
     "output_type": "execute_result"
    }
   ],
   "source": [
    "temps2 = pd.Series([70, 75, 69, 83, 79, 77], index = dates)\n",
    "temps2"
   ]
  },
  {
   "cell_type": "code",
   "execution_count": 35,
   "id": "70049168",
   "metadata": {},
   "outputs": [
    {
     "data": {
      "text/plain": [
       "2023-03-01    10\n",
       "2023-03-02     7\n",
       "2023-03-03    16\n",
       "2023-03-04     7\n",
       "2023-03-05     4\n",
       "2023-03-06    10\n",
       "Freq: D, dtype: int64"
      ]
     },
     "execution_count": 35,
     "metadata": {},
     "output_type": "execute_result"
    }
   ],
   "source": [
    "temp_diffs = temps1 - temps2\n",
    "temp_diffs"
   ]
  },
  {
   "cell_type": "code",
   "execution_count": 36,
   "id": "1ddc3350",
   "metadata": {},
   "outputs": [
    {
     "data": {
      "text/plain": [
       "16"
      ]
     },
     "execution_count": 36,
     "metadata": {},
     "output_type": "execute_result"
    }
   ],
   "source": [
    "temp_diffs[2]"
   ]
  },
  {
   "cell_type": "code",
   "execution_count": 37,
   "id": "326f3eab",
   "metadata": {},
   "outputs": [
    {
     "data": {
      "text/plain": [
       "9.0"
      ]
     },
     "execution_count": 37,
     "metadata": {},
     "output_type": "execute_result"
    }
   ],
   "source": [
    "temp_diffs.mean()"
   ]
  },
  {
   "cell_type": "code",
   "execution_count": 40,
   "id": "a5c9d78c",
   "metadata": {},
   "outputs": [
    {
     "data": {
      "text/plain": [
       "            Missoula  Philadelphia\n",
       "2023-03-01        80            70\n",
       "2023-03-02        82            75\n",
       "2023-03-03        85            69\n",
       "2023-03-04        90            83\n",
       "2023-03-05        83            79\n",
       "2023-03-06        87            77"
      ]
     },
     "execution_count": 40,
     "metadata": {},
     "output_type": "execute_result"
    }
   ],
   "source": [
    "temp_df = pd.DataFrame({\"Missoula\":temps1, \"Philadelphia\":temps2})\n",
    "temp_df"
   ]
  },
  {
   "cell_type": "code",
   "execution_count": 41,
   "id": "d5983763",
   "metadata": {},
   "outputs": [
    {
     "data": {
      "text/plain": [
       "2023-03-01    80\n",
       "2023-03-02    82\n",
       "2023-03-03    85\n",
       "2023-03-04    90\n",
       "2023-03-05    83\n",
       "2023-03-06    87\n",
       "Freq: D, Name: Missoula, dtype: int64"
      ]
     },
     "execution_count": 41,
     "metadata": {},
     "output_type": "execute_result"
    }
   ],
   "source": [
    "temp_df[\"Missoula\"]"
   ]
  },
  {
   "cell_type": "code",
   "execution_count": 42,
   "id": "77af2cde",
   "metadata": {},
   "outputs": [
    {
     "data": {
      "text/plain": [
       "2023-03-01    70\n",
       "2023-03-02    75\n",
       "2023-03-03    69\n",
       "2023-03-04    83\n",
       "2023-03-05    79\n",
       "2023-03-06    77\n",
       "Freq: D, Name: Philadelphia, dtype: int64"
      ]
     },
     "execution_count": 42,
     "metadata": {},
     "output_type": "execute_result"
    }
   ],
   "source": [
    "temp_df[\"Philadelphia\"]"
   ]
  },
  {
   "cell_type": "code",
   "execution_count": 43,
   "id": "3f396b7d",
   "metadata": {},
   "outputs": [
    {
     "data": {
      "text/plain": [
       "            Missoula  Philadelphia\n",
       "2023-03-01        80            70\n",
       "2023-03-02        82            75\n",
       "2023-03-03        85            69\n",
       "2023-03-04        90            83\n",
       "2023-03-05        83            79\n",
       "2023-03-06        87            77"
      ]
     },
     "execution_count": 43,
     "metadata": {},
     "output_type": "execute_result"
    }
   ],
   "source": [
    "temp_df[[\"Missoula\", \"Philadelphia\"]]"
   ]
  },
  {
   "cell_type": "code",
   "execution_count": 45,
   "id": "1e778f0e",
   "metadata": {},
   "outputs": [
    {
     "data": {
      "text/plain": [
       "2023-03-01    80\n",
       "2023-03-02    82\n",
       "2023-03-03    85\n",
       "2023-03-04    90\n",
       "2023-03-05    83\n",
       "2023-03-06    87\n",
       "Freq: D, Name: Missoula, dtype: int64"
      ]
     },
     "execution_count": 45,
     "metadata": {},
     "output_type": "execute_result"
    }
   ],
   "source": [
    "temp_df.Missoula"
   ]
  },
  {
   "cell_type": "code",
   "execution_count": 46,
   "id": "9a36e4d5",
   "metadata": {},
   "outputs": [
    {
     "data": {
      "text/plain": [
       "2023-03-01    10\n",
       "2023-03-02     7\n",
       "2023-03-03    16\n",
       "2023-03-04     7\n",
       "2023-03-05     4\n",
       "2023-03-06    10\n",
       "Freq: D, dtype: int64"
      ]
     },
     "execution_count": 46,
     "metadata": {},
     "output_type": "execute_result"
    }
   ],
   "source": [
    "temp_df.Missoula - temp_df.Philadelphia"
   ]
  },
  {
   "cell_type": "code",
   "execution_count": 48,
   "id": "f0cc1db8",
   "metadata": {},
   "outputs": [
    {
     "data": {
      "text/plain": [
       "            Missoula  Philadelphia  Difference\n",
       "2023-03-01        80            70          10\n",
       "2023-03-02        82            75           7\n",
       "2023-03-03        85            69          16\n",
       "2023-03-04        90            83           7\n",
       "2023-03-05        83            79           4\n",
       "2023-03-06        87            77          10"
      ]
     },
     "execution_count": 48,
     "metadata": {},
     "output_type": "execute_result"
    }
   ],
   "source": [
    "temp_df[\"Difference\"] = temp_diffs\n",
    "temp_df"
   ]
  },
  {
   "cell_type": "code",
   "execution_count": 49,
   "id": "a9b006a3",
   "metadata": {},
   "outputs": [
    {
     "data": {
      "text/plain": [
       "DatetimeIndex(['2023-03-01', '2023-03-02', '2023-03-03',\n",
       "               '2023-03-04', '2023-03-05', '2023-03-06'],\n",
       "              dtype='datetime64[ns]', freq='D')"
      ]
     },
     "execution_count": 49,
     "metadata": {},
     "output_type": "execute_result"
    }
   ],
   "source": [
    "temp_df.index"
   ]
  },
  {
   "cell_type": "code",
   "execution_count": 50,
   "id": "36b1e24f",
   "metadata": {},
   "outputs": [
    {
     "data": {
      "text/plain": [
       "Index(['Missoula', 'Philadelphia', 'Difference'], dtype='object')"
      ]
     },
     "execution_count": 50,
     "metadata": {},
     "output_type": "execute_result"
    }
   ],
   "source": [
    "temp_df.columns"
   ]
  },
  {
   "cell_type": "code",
   "execution_count": 54,
   "id": "0418e54b",
   "metadata": {},
   "outputs": [
    {
     "data": {
      "text/plain": [
       "2023-03-02     7\n",
       "2023-03-03    16\n",
       "2023-03-04     7\n",
       "Freq: D, Name: Difference, dtype: int64"
      ]
     },
     "execution_count": 54,
     "metadata": {},
     "output_type": "execute_result"
    }
   ],
   "source": [
    "temp_df.Difference[1:4]"
   ]
  },
  {
   "cell_type": "code",
   "execution_count": 55,
   "id": "c65a0fa8",
   "metadata": {},
   "outputs": [
    {
     "data": {
      "text/plain": [
       "Missoula        82\n",
       "Philadelphia    75\n",
       "Difference       7\n",
       "Name: 2023-03-02 00:00:00, dtype: int64"
      ]
     },
     "execution_count": 55,
     "metadata": {},
     "output_type": "execute_result"
    }
   ],
   "source": [
    "temp_df.iloc[1]"
   ]
  },
  {
   "cell_type": "code",
   "execution_count": 56,
   "id": "5299f139",
   "metadata": {},
   "outputs": [
    {
     "data": {
      "text/plain": [
       "Index(['Missoula', 'Philadelphia', 'Difference'], dtype='object')"
      ]
     },
     "execution_count": 56,
     "metadata": {},
     "output_type": "execute_result"
    }
   ],
   "source": [
    "temp_df.iloc[1].index"
   ]
  },
  {
   "cell_type": "code",
   "execution_count": 57,
   "id": "dbcb6f3b",
   "metadata": {},
   "outputs": [
    {
     "data": {
      "text/plain": [
       "Missoula        83\n",
       "Philadelphia    79\n",
       "Difference       4\n",
       "Name: 2023-03-05 00:00:00, dtype: int64"
      ]
     },
     "execution_count": 57,
     "metadata": {},
     "output_type": "execute_result"
    }
   ],
   "source": [
    "temp_df.loc[\"2023-03-05\"]"
   ]
  },
  {
   "cell_type": "code",
   "execution_count": 64,
   "id": "8b001019",
   "metadata": {},
   "outputs": [
    {
     "data": {
      "text/plain": [
       "2023-03-02     7\n",
       "2023-03-04     7\n",
       "2023-03-06    10\n",
       "Freq: 2D, Name: Difference, dtype: int64"
      ]
     },
     "execution_count": 64,
     "metadata": {},
     "output_type": "execute_result"
    }
   ],
   "source": [
    "temp_df.iloc[[1, 3, 5]].Difference"
   ]
  },
  {
   "cell_type": "code",
   "execution_count": 65,
   "id": "fb31bdca",
   "metadata": {},
   "outputs": [
    {
     "data": {
      "text/plain": [
       "2023-03-01    False\n",
       "2023-03-02    False\n",
       "2023-03-03     True\n",
       "2023-03-04     True\n",
       "2023-03-05     True\n",
       "2023-03-06     True\n",
       "Freq: D, Name: Missoula, dtype: bool"
      ]
     },
     "execution_count": 65,
     "metadata": {},
     "output_type": "execute_result"
    }
   ],
   "source": [
    "temp_df.Missoula > 82"
   ]
  },
  {
   "cell_type": "code",
   "execution_count": 66,
   "id": "15bbd89f",
   "metadata": {},
   "outputs": [
    {
     "data": {
      "text/plain": [
       "            Missoula  Philadelphia  Difference\n",
       "2023-03-01     False         False       False\n",
       "2023-03-02     False         False       False\n",
       "2023-03-03      True         False       False\n",
       "2023-03-04      True          True       False\n",
       "2023-03-05      True         False       False\n",
       "2023-03-06      True         False       False"
      ]
     },
     "execution_count": 66,
     "metadata": {},
     "output_type": "execute_result"
    }
   ],
   "source": [
    "temp_df > 82"
   ]
  },
  {
   "cell_type": "code",
   "execution_count": 68,
   "id": "baf800ea",
   "metadata": {},
   "outputs": [
    {
     "data": {
      "text/plain": [
       "2023-03-03    69\n",
       "2023-03-04    83\n",
       "2023-03-05    79\n",
       "2023-03-06    77\n",
       "Freq: D, Name: Philadelphia, dtype: int64"
      ]
     },
     "execution_count": 68,
     "metadata": {},
     "output_type": "execute_result"
    }
   ],
   "source": [
    "temp_df.Philadelphia[temp_df.Missoula > 82]"
   ]
  },
  {
   "cell_type": "code",
   "execution_count": 76,
   "id": "ac9198fa",
   "metadata": {},
   "outputs": [
    {
     "data": {
      "text/plain": [
       "                  Open        High         Low  \\\n",
       "Date                                             \n",
       "2016-12-19  790.219971  797.659973  786.270020   \n",
       "2016-12-20  796.760010  798.650024  793.270020   \n",
       "2016-12-21  795.840027  796.676025  787.099976   \n",
       "2016-12-22  792.359985  793.320007  788.580017   \n",
       "2016-12-23  790.900024  792.739990  787.280029   \n",
       "...                ...         ...         ...   \n",
       "2017-03-13  844.000000  848.684998  843.250000   \n",
       "2017-03-14  843.640015  847.239990  840.799988   \n",
       "2017-03-15  847.590027  848.630005  840.770020   \n",
       "2017-03-16  849.030029  850.849976  846.130005   \n",
       "2017-03-17  851.609985  853.400024  847.109985   \n",
       "\n",
       "                 Close   Volume  \n",
       "Date                             \n",
       "2016-12-19  794.200012  1225900  \n",
       "2016-12-20  796.419983   925100  \n",
       "2016-12-21  794.559998  1208700  \n",
       "2016-12-22  791.260010   969100  \n",
       "2016-12-23  789.909973   623400  \n",
       "...                ...      ...  \n",
       "2017-03-13  845.539978  1149500  \n",
       "2017-03-14  845.619995   779900  \n",
       "2017-03-15  847.200012  1379600  \n",
       "2017-03-16  848.780029   970400  \n",
       "2017-03-17  852.119995  1712300  \n",
       "\n",
       "[61 rows x 5 columns]"
      ]
     },
     "execution_count": 76,
     "metadata": {},
     "output_type": "execute_result"
    }
   ],
   "source": [
    "df = pd.read_csv(\"C:/Users/ASUS/data/goog.csv\", parse_dates = [\"Date\"], index_col = \"Date\")\n",
    "df"
   ]
  },
  {
   "cell_type": "code",
   "execution_count": null,
   "id": "f75a6997",
   "metadata": {},
   "outputs": [],
   "source": []
  }
 ],
 "metadata": {
  "kernelspec": {
   "display_name": "Python 3",
   "language": "python",
   "name": "python3"
  },
  "language_info": {
   "codemirror_mode": {
    "name": "ipython",
    "version": 3
   },
   "file_extension": ".py",
   "mimetype": "text/x-python",
   "name": "python",
   "nbconvert_exporter": "python",
   "pygments_lexer": "ipython3",
   "version": "3.8.8"
  }
 },
 "nbformat": 4,
 "nbformat_minor": 5
}
